{
 "cells": [
  {
   "cell_type": "markdown",
   "metadata": {},
   "source": [
    "# Extrai tweets"
   ]
  },
  {
   "cell_type": "code",
   "execution_count": null,
   "metadata": {
    "scrolled": true
   },
   "outputs": [],
   "source": [
    "!pip install tweepy datetime"
   ]
  },
  {
   "cell_type": "markdown",
   "metadata": {},
   "source": [
    "## Play "
   ]
  },
  {
   "cell_type": "code",
   "execution_count": null,
   "metadata": {},
   "outputs": [],
   "source": [
    "!python get_tweets.py"
   ]
  },
  {
   "cell_type": "markdown",
   "metadata": {},
   "source": [
    "## Entendendo a estrutura do JSON"
   ]
  },
  {
   "cell_type": "code",
   "execution_count": null,
   "metadata": {},
   "outputs": [],
   "source": [
    "import json"
   ]
  },
  {
   "cell_type": "code",
   "execution_count": null,
   "metadata": {},
   "outputs": [],
   "source": [
    "## Abrir o arquivo de tweets e ler as linhas\n",
    "with open('collected_tweet_2021-03-08-09-55-24.txt','r') as file:\n",
    "    tweets = file.readlines()"
   ]
  },
  {
   "cell_type": "code",
   "execution_count": null,
   "metadata": {},
   "outputs": [],
   "source": [
    "## Fazendo o parse do tweet para um formato json e exporta aquivo\n",
    "with open('tweet.json','w') as f:\n",
    "    json.dump(\n",
    "         json.loads(json.loads(tweets[0])),\n",
    "         f\n",
    "    )"
   ]
  },
  {
   "cell_type": "code",
   "execution_count": null,
   "metadata": {
    "scrolled": true
   },
   "outputs": [],
   "source": [
    " json.loads(\n",
    "    json.loads(tweets[1])\n",
    "        )"
   ]
  },
  {
   "cell_type": "code",
   "execution_count": null,
   "metadata": {},
   "outputs": [],
   "source": [
    "parsed_tweets = [json.loads(json.loads(i)) for i in tweets]"
   ]
  },
  {
   "cell_type": "code",
   "execution_count": null,
   "metadata": {},
   "outputs": [],
   "source": [
    "## Quantidade de tweets coletador\n",
    "len(parsed_tweets)"
   ]
  },
  {
   "cell_type": "markdown",
   "metadata": {},
   "source": [
    "## Acessando as chaves do JSON (Dicionário)"
   ]
  },
  {
   "cell_type": "code",
   "execution_count": null,
   "metadata": {},
   "outputs": [],
   "source": [
    "primeirotweet = parsed_tweets[1]"
   ]
  },
  {
   "cell_type": "code",
   "execution_count": null,
   "metadata": {},
   "outputs": [],
   "source": [
    "list(primeirotweet.items())[1]"
   ]
  },
  {
   "cell_type": "code",
   "execution_count": null,
   "metadata": {},
   "outputs": [],
   "source": [
    "##Acessa o texto do tweet\n",
    "#Chave de primeiro nível (root)\n",
    "primeirotweet['text']"
   ]
  },
  {
   "cell_type": "code",
   "execution_count": null,
   "metadata": {
    "scrolled": true
   },
   "outputs": [],
   "source": [
    "##Acessar a chave USER\n",
    "primeirotweet['user']"
   ]
  },
  {
   "cell_type": "code",
   "execution_count": null,
   "metadata": {},
   "outputs": [],
   "source": [
    "## Acessando o screem name do user\n",
    "primeirotweet['user']['screen_name']"
   ]
  },
  {
   "cell_type": "code",
   "execution_count": null,
   "metadata": {
    "scrolled": true
   },
   "outputs": [],
   "source": [
    "## Vamos pegar a informação do tweet original\n",
    "primeirotweet['retweeted_status']['created_at']"
   ]
  },
  {
   "cell_type": "code",
   "execution_count": null,
   "metadata": {},
   "outputs": [],
   "source": [
    "## Pegando o name do primeiro usuário mencionado no tweet original\n",
    "primeirotweet['retweeted_status']['entities']['user_mentions']"
   ]
  },
  {
   "cell_type": "markdown",
   "metadata": {},
   "source": [
    "# Transformar os tweets em uma estrutura relacional analisável"
   ]
  },
  {
   "cell_type": "code",
   "execution_count": null,
   "metadata": {},
   "outputs": [],
   "source": [
    "import pandas as pd"
   ]
  },
  {
   "cell_type": "code",
   "execution_count": null,
   "metadata": {
    "scrolled": true
   },
   "outputs": [],
   "source": [
    "teste = pd.DataFrame(primeirotweet)\n",
    "teste\n",
    "#NÃO FUNCIONA !"
   ]
  },
  {
   "cell_type": "code",
   "execution_count": null,
   "metadata": {},
   "outputs": [],
   "source": [
    "df_tratado = pd.DataFrame(primeirotweet).reset_index(drop=True).iloc[:1]\n",
    "df_tratado"
   ]
  },
  {
   "cell_type": "code",
   "execution_count": null,
   "metadata": {},
   "outputs": [],
   "source": [
    "df_tratado.columns"
   ]
  },
  {
   "cell_type": "code",
   "execution_count": null,
   "metadata": {
    "scrolled": true
   },
   "outputs": [],
   "source": [
    "df_tratado.drop(columns=['quote_count', 'reply_count', 'retweet_count', 'favorite_count', 'favorited', 'retweeted', 'user', 'entities', 'retweeted_status'], inplace=True)"
   ]
  },
  {
   "cell_type": "code",
   "execution_count": null,
   "metadata": {},
   "outputs": [],
   "source": [
    "df_tratado.columns"
   ]
  },
  {
   "cell_type": "code",
   "execution_count": null,
   "metadata": {},
   "outputs": [],
   "source": [
    "primeirotweet['user']"
   ]
  },
  {
   "cell_type": "code",
   "execution_count": null,
   "metadata": {},
   "outputs": [],
   "source": [
    "df_tratado['user_id'] = primeirotweet['user']['id']\n",
    "df_tratado['user_id_str'] = primeirotweet['user']['id_str']\n",
    "df_tratado['user_screen_name'] = primeirotweet['user']['screen_name']\n",
    "df_tratado['user_location'] = primeirotweet['user']['location']\n",
    "df_tratado['user_description'] = primeirotweet['user']['description']\n",
    "df_tratado['user_protected'] = primeirotweet['user']['protected']\n",
    "df_tratado['user_verified'] = primeirotweet['user']['verified'] \n",
    "df_tratado['user_followers_count'] = primeirotweet['user']['followers_count'] \n",
    "df_tratado['user_friends_count'] = primeirotweet['user']['friends_count']\n",
    "df_tratado['user_created_at'] = primeirotweet['user']['created_at'] \n"
   ]
  },
  {
   "cell_type": "code",
   "execution_count": null,
   "metadata": {},
   "outputs": [],
   "source": [
    "df_tratado"
   ]
  },
  {
   "cell_type": "code",
   "execution_count": null,
   "metadata": {},
   "outputs": [],
   "source": [
    "#Entidades\n",
    "primeirotweet['entities']"
   ]
  },
  {
   "cell_type": "code",
   "execution_count": null,
   "metadata": {},
   "outputs": [],
   "source": [
    "user_mentions = []\n",
    "\n",
    "for i in range(len(primeirotweet['entities']['user_mentions'])):\n",
    "    dicionariobase = primeirotweet ['entities']['user_mentions'][i].copy()\n",
    "    dicionariobase.pop('indices', None)\n",
    "    df = pd.DataFrame(dicionariobase, index= [0])\n",
    "    df = df.rename(columns={\n",
    "        'screen_name' : 'entities_screen_name',\n",
    "        'name' : 'entities_name',\n",
    "        'id' : 'entities_id',\n",
    "        'id_str' : 'entities_id_str'\n",
    "    })\n",
    "    user_mentions.append(df)"
   ]
  },
  {
   "cell_type": "code",
   "execution_count": null,
   "metadata": {},
   "outputs": [],
   "source": [
    "user_mentions[0]"
   ]
  },
  {
   "cell_type": "code",
   "execution_count": null,
   "metadata": {},
   "outputs": [],
   "source": [
    "dfs = []\n",
    "for i in user_mentions:\n",
    "    dfs.append(\n",
    "        pd.concat([df_tratado.copy(), i], axis=0)\n",
    "    )"
   ]
  },
  {
   "cell_type": "code",
   "execution_count": null,
   "metadata": {},
   "outputs": [],
   "source": [
    "pd.concat(dfs, ignore_index=True)"
   ]
  },
  {
   "cell_type": "markdown",
   "metadata": {},
   "source": [
    "Vamos criar uma função que faz todo o tratamento do tweet e cpnverte para um DataFrame pandas"
   ]
  },
  {
   "cell_type": "code",
   "execution_count": null,
   "metadata": {},
   "outputs": [],
   "source": [
    "def tweet_para_df(tweet):\n",
    "    try:\n",
    "        df_tratado = pd.DataFrame(tweet).reset_index(drop = True).iloc[:1]\n",
    "        df_tratado.drop(columns=['quote_count', 'reply_count', 'retweet_count', 'favorite_count', \n",
    "                             'favorited', 'retweeted', 'user', 'entities', 'retweeted_status'\n",
    "                            ], inplace=True)\n",
    "        df_tratado['user_id'] = tweet['user']['id']\n",
    "        df_tratado['user_id_str'] = tweet['user']['id_str']\n",
    "        df_tratado['user_screen_name'] = tweet['user']['screen_name']\n",
    "        df_tratado['user_location'] = tweet['user']['location']\n",
    "        df_tratado['user_description'] = tweet['user']['description']\n",
    "        df_tratado['user_protected'] = tweet['user']['protected']\n",
    "        df_tratado['user_verified'] = tweet['user']['verified'] \n",
    "        df_tratado['user_followers_count'] = tweet['user']['followers_count'] \n",
    "        df_tratado['user_friends_count'] = tweet['user']['friends_count']\n",
    "        df_tratado['user_created_at'] = tweet['user']['created_at'] \n",
    "\n",
    "        user_mentions = []\n",
    "\n",
    "        for i in range(len(tweet['entities']['user_mentions'])):\n",
    "            dicionariobase = tweet ['entities']['user_mentions'][i].copy()\n",
    "            dicionariobase.pop('indices', None)\n",
    "            df = pd.DataFrame(dicionariobase, index= [0])\n",
    "            df = df.rename(columns={\n",
    "                'screen_name' : 'entities_screen_name',\n",
    "                'name' : 'entities_name',\n",
    "                'id' : 'entities_id',\n",
    "                'id_str' : 'entities_id_str'\n",
    "            })\n",
    "            user_mentions.append(df)\n",
    "\n",
    "            dfs = []\n",
    "            for i in user_mentions:\n",
    "                dfs.append(\n",
    "                    pd.concat([df_tratado.copy(), i], axis=1)\n",
    "                )\n",
    "            df_final = pd.concat(dfs, ignore_index=True)\n",
    "    except:\n",
    "            return None\n",
    "    return df_final"
   ]
  },
  {
   "cell_type": "code",
   "execution_count": 111,
   "metadata": {},
   "outputs": [],
   "source": [
    "tweet_para_df(parsed_tweets[0])"
   ]
  },
  {
   "cell_type": "code",
   "execution_count": 112,
   "metadata": {},
   "outputs": [
    {
     "name": "stdout",
     "output_type": "stream",
     "text": [
      "Wall time: 3min 34s\n"
     ]
    }
   ],
   "source": [
    "%%time\n",
    "## Vamos iterar e transformar todos os tweets\n",
    "parseados = [tweet_para_df(tweet) for tweet in parsed_tweets]"
   ]
  },
  {
   "cell_type": "code",
   "execution_count": 118,
   "metadata": {},
   "outputs": [],
   "source": [
    "# Eliminar as posições vazias da lista\n",
    "parseados = [i for i in parseados if i is not None]"
   ]
  },
  {
   "cell_type": "code",
   "execution_count": 119,
   "metadata": {},
   "outputs": [
    {
     "data": {
      "text/plain": [
       "15569"
      ]
     },
     "execution_count": 119,
     "metadata": {},
     "output_type": "execute_result"
    }
   ],
   "source": [
    "len(parseados)"
   ]
  },
  {
   "cell_type": "code",
   "execution_count": 120,
   "metadata": {},
   "outputs": [],
   "source": [
    "tratado = pd.concat(parseados, ignore_index=True)"
   ]
  },
  {
   "cell_type": "code",
   "execution_count": 121,
   "metadata": {},
   "outputs": [
    {
     "data": {
      "text/html": [
       "<div>\n",
       "<style scoped>\n",
       "    .dataframe tbody tr th:only-of-type {\n",
       "        vertical-align: middle;\n",
       "    }\n",
       "\n",
       "    .dataframe tbody tr th {\n",
       "        vertical-align: top;\n",
       "    }\n",
       "\n",
       "    .dataframe thead th {\n",
       "        text-align: right;\n",
       "    }\n",
       "</style>\n",
       "<table border=\"1\" class=\"dataframe\">\n",
       "  <thead>\n",
       "    <tr style=\"text-align: right;\">\n",
       "      <th></th>\n",
       "      <th>created_at</th>\n",
       "      <th>id</th>\n",
       "      <th>id_str</th>\n",
       "      <th>text</th>\n",
       "      <th>source</th>\n",
       "      <th>truncated</th>\n",
       "      <th>in_reply_to_status_id</th>\n",
       "      <th>in_reply_to_status_id_str</th>\n",
       "      <th>in_reply_to_user_id</th>\n",
       "      <th>in_reply_to_user_id_str</th>\n",
       "      <th>...</th>\n",
       "      <th>user_verified</th>\n",
       "      <th>user_followers_count</th>\n",
       "      <th>user_friends_count</th>\n",
       "      <th>user_created_at</th>\n",
       "      <th>entities_screen_name</th>\n",
       "      <th>entities_name</th>\n",
       "      <th>entities_id</th>\n",
       "      <th>entities_id_str</th>\n",
       "      <th>possibly_sensitive</th>\n",
       "      <th>extended_entities</th>\n",
       "    </tr>\n",
       "  </thead>\n",
       "  <tbody>\n",
       "    <tr>\n",
       "      <th>0</th>\n",
       "      <td>Mon Mar 08 12:55:32 +0000 2021</td>\n",
       "      <td>1368908241531514884</td>\n",
       "      <td>1368908241531514884</td>\n",
       "      <td>RT @WHCOS: Elections have consequences.</td>\n",
       "      <td>&lt;a href=\"http://twitter.com/download/android\" ...</td>\n",
       "      <td>False</td>\n",
       "      <td>None</td>\n",
       "      <td>None</td>\n",
       "      <td>None</td>\n",
       "      <td>None</td>\n",
       "      <td>...</td>\n",
       "      <td>False</td>\n",
       "      <td>1979</td>\n",
       "      <td>4191</td>\n",
       "      <td>Sat Aug 26 14:36:10 +0000 2017</td>\n",
       "      <td>WHCOS</td>\n",
       "      <td>Ronald Klain</td>\n",
       "      <td>1351284403801108481</td>\n",
       "      <td>1351284403801108481</td>\n",
       "      <td>NaN</td>\n",
       "      <td>NaN</td>\n",
       "    </tr>\n",
       "    <tr>\n",
       "      <th>1</th>\n",
       "      <td>Mon Mar 08 12:55:32 +0000 2021</td>\n",
       "      <td>1368908241997037568</td>\n",
       "      <td>1368908241997037568</td>\n",
       "      <td>RT @SteveRattner: The top 20% of households re...</td>\n",
       "      <td>&lt;a href=\"http://twitter.com/download/android\" ...</td>\n",
       "      <td>False</td>\n",
       "      <td>None</td>\n",
       "      <td>None</td>\n",
       "      <td>None</td>\n",
       "      <td>None</td>\n",
       "      <td>...</td>\n",
       "      <td>False</td>\n",
       "      <td>7060</td>\n",
       "      <td>7060</td>\n",
       "      <td>Thu Nov 10 20:13:06 +0000 2016</td>\n",
       "      <td>SteveRattner</td>\n",
       "      <td>Steven Rattner</td>\n",
       "      <td>401625957</td>\n",
       "      <td>401625957</td>\n",
       "      <td>NaN</td>\n",
       "      <td>NaN</td>\n",
       "    </tr>\n",
       "    <tr>\n",
       "      <th>2</th>\n",
       "      <td>Mon Mar 08 12:55:32 +0000 2021</td>\n",
       "      <td>1368908242097700865</td>\n",
       "      <td>1368908242097700865</td>\n",
       "      <td>RT @MSNBC: Opinion | @FrankFigliuzzi1: The Sen...</td>\n",
       "      <td>&lt;a href=\"http://twitter.com/download/android\" ...</td>\n",
       "      <td>False</td>\n",
       "      <td>None</td>\n",
       "      <td>None</td>\n",
       "      <td>None</td>\n",
       "      <td>None</td>\n",
       "      <td>...</td>\n",
       "      <td>False</td>\n",
       "      <td>529</td>\n",
       "      <td>970</td>\n",
       "      <td>Sat Mar 14 04:36:08 +0000 2009</td>\n",
       "      <td>MSNBC</td>\n",
       "      <td>MSNBC</td>\n",
       "      <td>2836421</td>\n",
       "      <td>2836421</td>\n",
       "      <td>NaN</td>\n",
       "      <td>NaN</td>\n",
       "    </tr>\n",
       "    <tr>\n",
       "      <th>3</th>\n",
       "      <td>Mon Mar 08 12:55:32 +0000 2021</td>\n",
       "      <td>1368908242097700865</td>\n",
       "      <td>1368908242097700865</td>\n",
       "      <td>RT @MSNBC: Opinion | @FrankFigliuzzi1: The Sen...</td>\n",
       "      <td>&lt;a href=\"http://twitter.com/download/android\" ...</td>\n",
       "      <td>False</td>\n",
       "      <td>None</td>\n",
       "      <td>None</td>\n",
       "      <td>None</td>\n",
       "      <td>None</td>\n",
       "      <td>...</td>\n",
       "      <td>False</td>\n",
       "      <td>529</td>\n",
       "      <td>970</td>\n",
       "      <td>Sat Mar 14 04:36:08 +0000 2009</td>\n",
       "      <td>FrankFigliuzzi1</td>\n",
       "      <td>Frank Figliuzzi</td>\n",
       "      <td>929823128259387392</td>\n",
       "      <td>929823128259387392</td>\n",
       "      <td>NaN</td>\n",
       "      <td>NaN</td>\n",
       "    </tr>\n",
       "    <tr>\n",
       "      <th>4</th>\n",
       "      <td>Mon Mar 08 12:55:33 +0000 2021</td>\n",
       "      <td>1368908244366856193</td>\n",
       "      <td>1368908244366856193</td>\n",
       "      <td>RT @GeoffRBennett: NEW: Biden to order review ...</td>\n",
       "      <td>&lt;a href=\"http://twitter.com/download/android\" ...</td>\n",
       "      <td>False</td>\n",
       "      <td>None</td>\n",
       "      <td>None</td>\n",
       "      <td>None</td>\n",
       "      <td>None</td>\n",
       "      <td>...</td>\n",
       "      <td>False</td>\n",
       "      <td>2180</td>\n",
       "      <td>2967</td>\n",
       "      <td>Tue Mar 03 20:33:38 +0000 2009</td>\n",
       "      <td>GeoffRBennett</td>\n",
       "      <td>Geoff Bennett</td>\n",
       "      <td>19502995</td>\n",
       "      <td>19502995</td>\n",
       "      <td>False</td>\n",
       "      <td>NaN</td>\n",
       "    </tr>\n",
       "    <tr>\n",
       "      <th>...</th>\n",
       "      <td>...</td>\n",
       "      <td>...</td>\n",
       "      <td>...</td>\n",
       "      <td>...</td>\n",
       "      <td>...</td>\n",
       "      <td>...</td>\n",
       "      <td>...</td>\n",
       "      <td>...</td>\n",
       "      <td>...</td>\n",
       "      <td>...</td>\n",
       "      <td>...</td>\n",
       "      <td>...</td>\n",
       "      <td>...</td>\n",
       "      <td>...</td>\n",
       "      <td>...</td>\n",
       "      <td>...</td>\n",
       "      <td>...</td>\n",
       "      <td>...</td>\n",
       "      <td>...</td>\n",
       "      <td>...</td>\n",
       "      <td>...</td>\n",
       "    </tr>\n",
       "    <tr>\n",
       "      <th>18848</th>\n",
       "      <td>Mon Mar 08 13:45:09 +0000 2021</td>\n",
       "      <td>1368920727605436417</td>\n",
       "      <td>1368920727605436417</td>\n",
       "      <td>RT @KateSullivanDC: Biden has nominated two fe...</td>\n",
       "      <td>&lt;a href=\"http://twitter.com/download/iphone\" r...</td>\n",
       "      <td>False</td>\n",
       "      <td>None</td>\n",
       "      <td>None</td>\n",
       "      <td>None</td>\n",
       "      <td>None</td>\n",
       "      <td>...</td>\n",
       "      <td>False</td>\n",
       "      <td>13515</td>\n",
       "      <td>13943</td>\n",
       "      <td>Tue Mar 15 14:57:53 +0000 2016</td>\n",
       "      <td>KateSullivanDC</td>\n",
       "      <td>Kate Sullivan</td>\n",
       "      <td>241684668</td>\n",
       "      <td>241684668</td>\n",
       "      <td>NaN</td>\n",
       "      <td>NaN</td>\n",
       "    </tr>\n",
       "    <tr>\n",
       "      <th>18849</th>\n",
       "      <td>Mon Mar 08 13:45:09 +0000 2021</td>\n",
       "      <td>1368920727936712713</td>\n",
       "      <td>1368920727936712713</td>\n",
       "      <td>RT @CREWcrew: We can’t emphasize how outrageou...</td>\n",
       "      <td>&lt;a href=\"http://twitter.com/download/android\" ...</td>\n",
       "      <td>False</td>\n",
       "      <td>None</td>\n",
       "      <td>None</td>\n",
       "      <td>None</td>\n",
       "      <td>None</td>\n",
       "      <td>...</td>\n",
       "      <td>False</td>\n",
       "      <td>278</td>\n",
       "      <td>309</td>\n",
       "      <td>Sat Oct 10 00:38:47 +0000 2020</td>\n",
       "      <td>CREWcrew</td>\n",
       "      <td>Citizens for Ethics</td>\n",
       "      <td>22187085</td>\n",
       "      <td>22187085</td>\n",
       "      <td>False</td>\n",
       "      <td>NaN</td>\n",
       "    </tr>\n",
       "    <tr>\n",
       "      <th>18850</th>\n",
       "      <td>Mon Mar 08 13:45:09 +0000 2021</td>\n",
       "      <td>1368920728121323524</td>\n",
       "      <td>1368920728121323524</td>\n",
       "      <td>RT @donwinslow: Please watch and share.\\n\\n@Re...</td>\n",
       "      <td>&lt;a href=\"https://mobile.twitter.com\" rel=\"nofo...</td>\n",
       "      <td>False</td>\n",
       "      <td>None</td>\n",
       "      <td>None</td>\n",
       "      <td>None</td>\n",
       "      <td>None</td>\n",
       "      <td>...</td>\n",
       "      <td>False</td>\n",
       "      <td>4054</td>\n",
       "      <td>5001</td>\n",
       "      <td>Sun Dec 18 01:55:35 +0000 2016</td>\n",
       "      <td>donwinslow</td>\n",
       "      <td>Don Winslow</td>\n",
       "      <td>255812611</td>\n",
       "      <td>255812611</td>\n",
       "      <td>NaN</td>\n",
       "      <td>NaN</td>\n",
       "    </tr>\n",
       "    <tr>\n",
       "      <th>18851</th>\n",
       "      <td>Mon Mar 08 13:45:09 +0000 2021</td>\n",
       "      <td>1368920728121323524</td>\n",
       "      <td>1368920728121323524</td>\n",
       "      <td>RT @donwinslow: Please watch and share.\\n\\n@Re...</td>\n",
       "      <td>&lt;a href=\"https://mobile.twitter.com\" rel=\"nofo...</td>\n",
       "      <td>False</td>\n",
       "      <td>None</td>\n",
       "      <td>None</td>\n",
       "      <td>None</td>\n",
       "      <td>None</td>\n",
       "      <td>...</td>\n",
       "      <td>False</td>\n",
       "      <td>4054</td>\n",
       "      <td>5001</td>\n",
       "      <td>Sun Dec 18 01:55:35 +0000 2016</td>\n",
       "      <td>ReverendWarnock</td>\n",
       "      <td>Senator Reverend Raphael Warnock</td>\n",
       "      <td>1221242033530195970</td>\n",
       "      <td>1221242033530195970</td>\n",
       "      <td>NaN</td>\n",
       "      <td>NaN</td>\n",
       "    </tr>\n",
       "    <tr>\n",
       "      <th>18852</th>\n",
       "      <td>Mon Mar 08 13:45:09 +0000 2021</td>\n",
       "      <td>1368920728981053444</td>\n",
       "      <td>1368920728981053444</td>\n",
       "      <td>RT @LysanderMurphy: There’s no plan required l...</td>\n",
       "      <td>&lt;a href=\"http://twitter.com/download/iphone\" r...</td>\n",
       "      <td>False</td>\n",
       "      <td>None</td>\n",
       "      <td>None</td>\n",
       "      <td>None</td>\n",
       "      <td>None</td>\n",
       "      <td>...</td>\n",
       "      <td>False</td>\n",
       "      <td>444</td>\n",
       "      <td>905</td>\n",
       "      <td>Mon Jul 23 10:37:50 +0000 2018</td>\n",
       "      <td>LysanderMurphy</td>\n",
       "      <td>Lysander Murphy</td>\n",
       "      <td>1125943207995609090</td>\n",
       "      <td>1125943207995609090</td>\n",
       "      <td>NaN</td>\n",
       "      <td>NaN</td>\n",
       "    </tr>\n",
       "  </tbody>\n",
       "</table>\n",
       "<p>18853 rows × 39 columns</p>\n",
       "</div>"
      ],
      "text/plain": [
       "                           created_at                   id  \\\n",
       "0      Mon Mar 08 12:55:32 +0000 2021  1368908241531514884   \n",
       "1      Mon Mar 08 12:55:32 +0000 2021  1368908241997037568   \n",
       "2      Mon Mar 08 12:55:32 +0000 2021  1368908242097700865   \n",
       "3      Mon Mar 08 12:55:32 +0000 2021  1368908242097700865   \n",
       "4      Mon Mar 08 12:55:33 +0000 2021  1368908244366856193   \n",
       "...                               ...                  ...   \n",
       "18848  Mon Mar 08 13:45:09 +0000 2021  1368920727605436417   \n",
       "18849  Mon Mar 08 13:45:09 +0000 2021  1368920727936712713   \n",
       "18850  Mon Mar 08 13:45:09 +0000 2021  1368920728121323524   \n",
       "18851  Mon Mar 08 13:45:09 +0000 2021  1368920728121323524   \n",
       "18852  Mon Mar 08 13:45:09 +0000 2021  1368920728981053444   \n",
       "\n",
       "                    id_str                                               text  \\\n",
       "0      1368908241531514884            RT @WHCOS: Elections have consequences.   \n",
       "1      1368908241997037568  RT @SteveRattner: The top 20% of households re...   \n",
       "2      1368908242097700865  RT @MSNBC: Opinion | @FrankFigliuzzi1: The Sen...   \n",
       "3      1368908242097700865  RT @MSNBC: Opinion | @FrankFigliuzzi1: The Sen...   \n",
       "4      1368908244366856193  RT @GeoffRBennett: NEW: Biden to order review ...   \n",
       "...                    ...                                                ...   \n",
       "18848  1368920727605436417  RT @KateSullivanDC: Biden has nominated two fe...   \n",
       "18849  1368920727936712713  RT @CREWcrew: We can’t emphasize how outrageou...   \n",
       "18850  1368920728121323524  RT @donwinslow: Please watch and share.\\n\\n@Re...   \n",
       "18851  1368920728121323524  RT @donwinslow: Please watch and share.\\n\\n@Re...   \n",
       "18852  1368920728981053444  RT @LysanderMurphy: There’s no plan required l...   \n",
       "\n",
       "                                                  source  truncated  \\\n",
       "0      <a href=\"http://twitter.com/download/android\" ...      False   \n",
       "1      <a href=\"http://twitter.com/download/android\" ...      False   \n",
       "2      <a href=\"http://twitter.com/download/android\" ...      False   \n",
       "3      <a href=\"http://twitter.com/download/android\" ...      False   \n",
       "4      <a href=\"http://twitter.com/download/android\" ...      False   \n",
       "...                                                  ...        ...   \n",
       "18848  <a href=\"http://twitter.com/download/iphone\" r...      False   \n",
       "18849  <a href=\"http://twitter.com/download/android\" ...      False   \n",
       "18850  <a href=\"https://mobile.twitter.com\" rel=\"nofo...      False   \n",
       "18851  <a href=\"https://mobile.twitter.com\" rel=\"nofo...      False   \n",
       "18852  <a href=\"http://twitter.com/download/iphone\" r...      False   \n",
       "\n",
       "      in_reply_to_status_id in_reply_to_status_id_str in_reply_to_user_id  \\\n",
       "0                      None                      None                None   \n",
       "1                      None                      None                None   \n",
       "2                      None                      None                None   \n",
       "3                      None                      None                None   \n",
       "4                      None                      None                None   \n",
       "...                     ...                       ...                 ...   \n",
       "18848                  None                      None                None   \n",
       "18849                  None                      None                None   \n",
       "18850                  None                      None                None   \n",
       "18851                  None                      None                None   \n",
       "18852                  None                      None                None   \n",
       "\n",
       "      in_reply_to_user_id_str  ... user_verified user_followers_count  \\\n",
       "0                        None  ...         False                 1979   \n",
       "1                        None  ...         False                 7060   \n",
       "2                        None  ...         False                  529   \n",
       "3                        None  ...         False                  529   \n",
       "4                        None  ...         False                 2180   \n",
       "...                       ...  ...           ...                  ...   \n",
       "18848                    None  ...         False                13515   \n",
       "18849                    None  ...         False                  278   \n",
       "18850                    None  ...         False                 4054   \n",
       "18851                    None  ...         False                 4054   \n",
       "18852                    None  ...         False                  444   \n",
       "\n",
       "      user_friends_count                 user_created_at entities_screen_name  \\\n",
       "0                   4191  Sat Aug 26 14:36:10 +0000 2017                WHCOS   \n",
       "1                   7060  Thu Nov 10 20:13:06 +0000 2016         SteveRattner   \n",
       "2                    970  Sat Mar 14 04:36:08 +0000 2009                MSNBC   \n",
       "3                    970  Sat Mar 14 04:36:08 +0000 2009      FrankFigliuzzi1   \n",
       "4                   2967  Tue Mar 03 20:33:38 +0000 2009        GeoffRBennett   \n",
       "...                  ...                             ...                  ...   \n",
       "18848              13943  Tue Mar 15 14:57:53 +0000 2016       KateSullivanDC   \n",
       "18849                309  Sat Oct 10 00:38:47 +0000 2020             CREWcrew   \n",
       "18850               5001  Sun Dec 18 01:55:35 +0000 2016           donwinslow   \n",
       "18851               5001  Sun Dec 18 01:55:35 +0000 2016      ReverendWarnock   \n",
       "18852                905  Mon Jul 23 10:37:50 +0000 2018       LysanderMurphy   \n",
       "\n",
       "                          entities_name          entities_id  \\\n",
       "0                          Ronald Klain  1351284403801108481   \n",
       "1                        Steven Rattner            401625957   \n",
       "2                                 MSNBC              2836421   \n",
       "3                       Frank Figliuzzi   929823128259387392   \n",
       "4                         Geoff Bennett             19502995   \n",
       "...                                 ...                  ...   \n",
       "18848                     Kate Sullivan            241684668   \n",
       "18849               Citizens for Ethics             22187085   \n",
       "18850                       Don Winslow            255812611   \n",
       "18851  Senator Reverend Raphael Warnock  1221242033530195970   \n",
       "18852                   Lysander Murphy  1125943207995609090   \n",
       "\n",
       "           entities_id_str possibly_sensitive  extended_entities  \n",
       "0      1351284403801108481                NaN                NaN  \n",
       "1                401625957                NaN                NaN  \n",
       "2                  2836421                NaN                NaN  \n",
       "3       929823128259387392                NaN                NaN  \n",
       "4                 19502995              False                NaN  \n",
       "...                    ...                ...                ...  \n",
       "18848            241684668                NaN                NaN  \n",
       "18849             22187085              False                NaN  \n",
       "18850            255812611                NaN                NaN  \n",
       "18851  1221242033530195970                NaN                NaN  \n",
       "18852  1125943207995609090                NaN                NaN  \n",
       "\n",
       "[18853 rows x 39 columns]"
      ]
     },
     "execution_count": 121,
     "metadata": {},
     "output_type": "execute_result"
    }
   ],
   "source": [
    "tratado"
   ]
  }
 ],
 "metadata": {
  "kernelspec": {
   "display_name": "Python 3",
   "language": "python",
   "name": "python3"
  },
  "language_info": {
   "codemirror_mode": {
    "name": "ipython",
    "version": 3
   },
   "file_extension": ".py",
   "mimetype": "text/x-python",
   "name": "python",
   "nbconvert_exporter": "python",
   "pygments_lexer": "ipython3",
   "version": "3.8.5"
  }
 },
 "nbformat": 4,
 "nbformat_minor": 4
}
